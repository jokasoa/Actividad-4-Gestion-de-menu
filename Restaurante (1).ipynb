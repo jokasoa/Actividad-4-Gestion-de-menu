{
 "cells": [
  {
   "cell_type": "code",
   "execution_count": null,
   "id": "a6b0285e-7734-42cb-840e-844772c4f393",
   "metadata": {},
   "outputs": [],
   "source": []
  },
  {
   "cell_type": "code",
   "execution_count": 2,
   "id": "168ed1fc-2848-4175-9604-059a6fd7bc47",
   "metadata": {},
   "outputs": [],
   "source": [
    "# Definición de un menú de restaurante\n",
    "menu_restaurante = {\n",
    "    \"Tostada americana\": {\n",
    "        \"precio\": 3.25,\n",
    "        \"ingredientes\": (\"tomate\", \"queso parmesano\", \"mayonesa\")\n",
    "    },\n",
    "    \"Ensalada de atun\": {\n",
    "        \"precio\": 5.50,\n",
    "        \"ingredientes\": (\"lechuga\", \"atun\", \"aguacate\", \"tomate\", \"cebolla\")\n",
    "    },\n",
    "    \"Fideos clasicos\": {\n",
    "        \"precio\": 3.25,\n",
    "        \"ingredientes\": (\"pasta\", \"huevo\", \"queso\", \"tomate\", \"Pollo\")\n",
    "    },\n",
    "    \"Hamburguesa de pollo\": {\n",
    "        \"precio\": 6.00,\n",
    "        \"ingredientes\": (\"pan\", \"pollo\", \"queso\", \"lechuga\", \"tomate\")\n",
    "    },\n",
    "    \"Sopa de queso\": {\n",
    "        \"precio\": 5.20,\n",
    "        \"ingredientes\": (\"pasta\", \"papas\", \"queso\", \"leche\")\n",
    "    }\n",
    "}\n"
   ]
  },
  {
   "cell_type": "code",
   "execution_count": 3,
   "id": "db6ca386-bd86-4612-8fc0-b205ca523579",
   "metadata": {},
   "outputs": [],
   "source": [
    "# Función para mostrar el menú de manera legible\n",
    "def mostrar_menu(menu):\n",
    "    print(\"=== MENÚ DEL RESTAURANTE ===\\n\")\n",
    "    for plato, detalles in menu.items():\n",
    "        precio = detalles[\"precio\"]\n",
    "        ingredientes = \", \".join(detalles[\"ingredientes\"])\n",
    "        print(f\"{plato} - ${precio:.2f}\")\n",
    "        print(f\"  Ingredientes: {ingredientes}\\n\")\n"
   ]
  },
  {
   "cell_type": "code",
   "execution_count": 4,
   "id": "0cfc4a08-da8c-4a3a-af5e-f453e8a69035",
   "metadata": {},
   "outputs": [
    {
     "name": "stdout",
     "output_type": "stream",
     "text": [
      "=== MENÚ DEL RESTAURANTE ===\n",
      "\n",
      "Tostada americana - $3.25\n",
      "  Ingredientes: tomate, queso parmesano, mayonesa\n",
      "\n",
      "Ensalada de atun - $5.50\n",
      "  Ingredientes: lechuga, atun, aguacate, tomate, cebolla\n",
      "\n",
      "Fideos clasicos - $3.25\n",
      "  Ingredientes: pasta, huevo, queso, tomate, Pollo\n",
      "\n",
      "Hamburguesa de pollo - $6.00\n",
      "  Ingredientes: pan, pollo, queso, lechuga, tomate\n",
      "\n",
      "Sopa de queso - $5.20\n",
      "  Ingredientes: pasta, papas, queso, leche\n",
      "\n"
     ]
    }
   ],
   "source": [
    "# Mostrar el menú actual\n",
    "mostrar_menu(menu_restaurante)\n"
   ]
  },
  {
   "cell_type": "code",
   "execution_count": null,
   "id": "9d463c0d-d0df-4976-9dbe-a0f6f84968cb",
   "metadata": {},
   "outputs": [],
   "source": [
    "# Inicialización del pedido del cliente\n",
    "pedido_actual = [\"Sopa de queso\"]\n",
    "total_cuenta = 5.20\n"
   ]
  },
  {
   "cell_type": "code",
   "execution_count": null,
   "id": "3b4496a4-e205-47fc-9336-cff48c68bb27",
   "metadata": {},
   "outputs": [],
   "source": [
    "# Resumen del pedido actual\n",
    "print(\"\\n=== AQUI ESTA SU RESUMEN DEL PEDIDO ===\")\n",
    "for plato in pedido_actual:\n",
    "    print(f\"- {plato} (${menu_restaurante[plato]['precio']:.2f})\")\n",
    "\n",
    "print(f\"\\nTotal a pagar: ${total_cuenta:.2f}\")\n"
   ]
  },
  {
   "cell_type": "code",
   "execution_count": null,
   "id": "a502ec71-4623-45ac-9b81-abc16ed7fc82",
   "metadata": {},
   "outputs": [],
   "source": [
    "# Mostrar resumen final con numeración\n",
    "print(\"\\n=== RESUMEN FINAL DEL PEDIDO ===\")\n",
    "if pedido_actual:\n",
    "    for i, plato in enumerate(pedido_actual, start=1):\n",
    "        precio = menu_restaurante[plato]['precio']\n",
    "        print(f\"{i}. {plato} - ${precio:.2f}\")\n",
    "    print(f\"\\nTotal a pagar: ${total_cuenta:.2f}\")\n",
    "else:\n",
    "    print(\"No se ha realizado ningún pedido.\")\n"
   ]
  },
  {
   "cell_type": "code",
   "execution_count": null,
   "id": "adaacd2b-719c-4645-884c-a3571aa35694",
   "metadata": {},
   "outputs": [],
   "source": [
    "# Aplicamos 10% de descuento a la 'Sopa de queso'\n",
    "plato_descuento = \"Sopa de queso\"\n",
    "\n",
    "if plato_descuento in menu_restaurante:\n",
    "    precio_original = menu_restaurante[plato_descuento][\"precio\"]\n",
    "    nuevo_precio = round(precio_original * 0.90, 2)  # 10% de descuento\n",
    "    menu_restaurante[plato_descuento][\"precio\"] = nuevo_precio\n",
    "    print(f\"\\nDescuento aplicado: '{plato_descuento}' ahora cuesta ${nuevo_precio:.2f}\")\n",
    "else:\n",
    "    print(\"Ese plato no se encuentra en el menú.\")\n"
   ]
  },
  {
   "cell_type": "code",
   "execution_count": null,
   "id": "1af25c8a-6a54-4e39-91e5-dd88c64279a1",
   "metadata": {},
   "outputs": [],
   "source": [
    "# Mostrar el menú actualizado con el descuento\n",
    "mostrar_menu(menu_restaurante)\n"
   ]
  },
  {
   "cell_type": "code",
   "execution_count": null,
   "id": "c32b4b76-6e00-40fe-b6d9-7378e202d503",
   "metadata": {},
   "outputs": [],
   "source": [
    "# Bucle para tomar los platos del cliente\n",
    "while True:\n",
    "    entrada = input(\"Introduce el plato que deseas (o 'fin' para terminar): \").strip().lower()\n",
    "\n",
    "    if entrada == 'fin':\n",
    "        break\n",
    "\n",
    "    plato_encontrado = None\n",
    "    for plato in menu_restaurante:\n",
    "        if entrada == plato.lower():\n",
    "            plato_encontrado = plato\n",
    "            break\n",
    "\n",
    "    if plato_encontrado:\n",
    "        pedido_actual.append(plato_encontrado)\n",
    "        total_cuenta += menu_restaurante[plato_encontrado][\"precio\"]\n",
    "        print(f\"'{plato_encontrado}' añadido al pedido.\")\n",
    "    else:\n",
    "        print(\"Lo sentimos, ese plato no está en el menú.\")\n"
   ]
  },
  {
   "cell_type": "code",
   "execution_count": 12,
   "id": "c7a54637-3680-4d48-b0d0-1f6c0f54d58a",
   "metadata": {},
   "outputs": [
    {
     "name": "stdout",
     "output_type": "stream",
     "text": [
      "\n",
      "'Plato del Día' añadido al menú.\n"
     ]
    }
   ],
   "source": [
    "# Añadir un nuevo plato al menú\n",
    "menu_restaurante[\"Plato del Día\"] = {\n",
    "    \"precio\": 6.90,\n",
    "    \"ingredientes\": (\"pollo\", \"salsa especial\", \"arroz\", \"vegetales\")\n",
    "}\n",
    "\n",
    "print(\"\\n'Plato del Día' añadido al menú.\")\n"
   ]
  },
  {
   "cell_type": "code",
   "execution_count": 7,
   "id": "31d6ae22-b281-491f-8a34-8b2652cd1c6a",
   "metadata": {},
   "outputs": [
    {
     "name": "stdout",
     "output_type": "stream",
     "text": [
      "=== MENÚ DEL RESTAURANTE ===\n",
      "\n",
      "Tostada americana - $3.25\n",
      "  Ingredientes: tomate, queso parmesano, mayonesa\n",
      "\n",
      "Ensalada de atun - $5.50\n",
      "  Ingredientes: lechuga, atun, aguacate, tomate, cebolla\n",
      "\n",
      "Fideos clasicos - $3.25\n",
      "  Ingredientes: pasta, huevo, queso, tomate, Pollo\n",
      "\n",
      "Hamburguesa de pollo - $6.00\n",
      "  Ingredientes: pan, pollo, queso, lechuga, tomate\n",
      "\n",
      "Sopa de queso - $5.20\n",
      "  Ingredientes: pasta, papas, queso, leche\n",
      "\n"
     ]
    }
   ],
   "source": [
    "# Ver el menú final con el nuevo plato añadido\n",
    "mostrar_menu(menu_restaurante)\n"
   ]
  },
  {
   "cell_type": "code",
   "execution_count": 5,
   "id": "2eee59b0-f8a9-41ff-a002-d21ee77184ea",
   "metadata": {},
   "outputs": [
    {
     "name": "stdout",
     "output_type": "stream",
     "text": [
      "\n",
      "=== Especiales del Día ===\n",
      "Tostada americana - $3.25\n",
      "  Ingredientes: tomate, queso parmesano, mayonesa\n",
      "\n",
      "Fideos clasicos - $3.25\n",
      "  Ingredientes: pasta, huevo, queso, tomate, Pollo\n",
      "\n",
      "Sopa de queso - $5.20\n",
      "  Ingredientes: pasta, papas, queso, leche\n",
      "\n"
     ]
    }
   ],
   "source": [
    "# Parte 4: Exploración de Slices del Menú\n",
    "\n",
    "print(\"\\n=== Especiales del Día ===\")\n",
    "\n",
    "# Creamos una lista con algunos platos especiales del menú\n",
    "especiales_del_dia = [\"Tostada americana\", \"Fideos clasicos\", \"Sopa de queso\"]\n",
    "\n",
    "# Recorremos esta lista y mostramos los detalles de cada especial\n",
    "for plato in especiales_del_dia:\n",
    "    if plato in menu_restaurante:\n",
    "        detalles = menu_restaurante[plato]\n",
    "        precio = detalles[\"precio\"]\n",
    "        ingredientes = \", \".join(detalles[\"ingredientes\"])\n",
    "        print(f\"{plato} - ${precio:.2f}\")\n",
    "        print(f\"  Ingredientes: {ingredientes}\\n\")\n",
    "    else:\n",
    "        print(f\"El plato '{plato}' no existe en el menú.\\n\")\n"
   ]
  },
  {
   "cell_type": "code",
   "execution_count": 13,
   "id": "2113842f-1f63-440e-b2b4-832043ca2dfe",
   "metadata": {},
   "outputs": [
    {
     "name": "stdout",
     "output_type": "stream",
     "text": [
      "\n",
      "=== Exploración de Error de Índice ===\n"
     ]
    },
    {
     "ename": "NameError",
     "evalue": "name 'pedido_actual' is not defined",
     "output_type": "error",
     "traceback": [
      "\u001b[31m---------------------------------------------------------------------------\u001b[39m",
      "\u001b[31mNameError\u001b[39m                                 Traceback (most recent call last)",
      "\u001b[36mCell\u001b[39m\u001b[36m \u001b[39m\u001b[32mIn[13]\u001b[39m\u001b[32m, line 4\u001b[39m\n\u001b[32m      1\u001b[39m \u001b[38;5;66;03m# Parte 4: Exploración de Errores y Depuración\u001b[39;00m\n\u001b[32m      2\u001b[39m \u001b[38;5;28mprint\u001b[39m(\u001b[33m\"\u001b[39m\u001b[38;5;130;01m\\n\u001b[39;00m\u001b[33m=== Exploración de Error de Índice ===\u001b[39m\u001b[33m\"\u001b[39m)\n\u001b[32m----> \u001b[39m\u001b[32m4\u001b[39m \u001b[38;5;28mprint\u001b[39m(\u001b[33m\"\u001b[39m\u001b[33mContenido de pedido_actual:\u001b[39m\u001b[33m\"\u001b[39m, \u001b[43mpedido_actual\u001b[49m)\n\u001b[32m      6\u001b[39m \u001b[38;5;28;01mtry\u001b[39;00m:\n\u001b[32m      7\u001b[39m     \u001b[38;5;28mprint\u001b[39m(\u001b[33m\"\u001b[39m\u001b[33mAccediendo al quinto elemento de pedido_actual...\u001b[39m\u001b[33m\"\u001b[39m)\n",
      "\u001b[31mNameError\u001b[39m: name 'pedido_actual' is not defined"
     ]
    }
   ],
   "source": [
    "# Parte 4: Exploración de Errores y Depuración\n",
    "print(\"\\n=== Exploración de Error de Índice ===\")\n",
    "\n",
    "print(\"Contenido de pedido_actual:\", pedido_actual)\n",
    "\n",
    "try:\n",
    "    print(\"Accediendo al quinto elemento de pedido_actual...\")\n",
    "    elemento_fuera_de_rango = pedido_actual[4]\n",
    "    print(\"Elemento encontrado:\", elemento_fuera_de_rango)\n",
    "except IndexError as e:\n",
    "    print(\"¡Se produjo un IndexError!\")\n",
    "    print(\"Detalle del error:\", e)\n",
    "\n"
   ]
  },
  {
   "cell_type": "code",
   "execution_count": 9,
   "id": "b2083e31-cb36-4cf5-949c-47a44cac038b",
   "metadata": {},
   "outputs": [
    {
     "name": "stdout",
     "output_type": "stream",
     "text": [
      "\n",
      "=== Exploración de Error de Inmutabilidad de Tuplas (TypeError) ===\n",
      "Intentando modificar los ingredientes de 'Tostada americana'...\n",
      "¡Se produjo un TypeError!\n",
      "Detalle del error: 'tuple' object does not support item assignment\n"
     ]
    }
   ],
   "source": [
    "# Parte 4: Exploración de Errores y Depuración\n",
    "print(\"\\n=== Exploración de Error de Inmutabilidad de Tuplas (TypeError) ===\")\n",
    "\n",
    "try:\n",
    "    # Intentamos cambiar la tupla de ingredientes de un plato\n",
    "    print(\"Intentando modificar los ingredientes de 'Tostada americana'...\")\n",
    "    menu_restaurante[\"Tostada americana\"][\"ingredientes\"][0] = \"nuevo_ingrediente\"\n",
    "except TypeError as e:\n",
    "    print(\"¡Se produjo un TypeError!\")\n",
    "    print(\"Detalle del error:\", e)\n",
    "\n"
   ]
  },
  {
   "cell_type": "code",
   "execution_count": 10,
   "id": "ff88d232-63cb-4909-b8f4-893d3847d1f9",
   "metadata": {},
   "outputs": [
    {
     "name": "stdout",
     "output_type": "stream",
     "text": [
      "\n",
      "=== Exploración de Error de Clave (KeyError) ===\n",
      "Accediendo a 'Plato Inexistente' en menu_restaurante...\n",
      "¡Se produjo un KeyError!\n",
      "Detalle del error: 'Plato Inexistente'\n"
     ]
    }
   ],
   "source": [
    "# Parte 4: Exploración de Errores y Depuración\n",
    "print(\"\\n=== Exploración de Error de Clave (KeyError) ===\")\n",
    "\n",
    "try:\n",
    "    print(\"Accediendo a 'Plato Inexistente' en menu_restaurante...\")\n",
    "    precio_inexistente = menu_restaurante[\"Plato Inexistente\"][\"precio\"]\n",
    "    print(\"Precio encontrado:\", precio_inexistente)\n",
    "except KeyError as e:\n",
    "    print(\"¡Se produjo un KeyError!\")\n",
    "    print(\"Detalle del error:\", e)\n",
    "\n"
   ]
  },
  {
   "cell_type": "code",
   "execution_count": null,
   "id": "c4f6de6b-602e-4cff-9f33-e692cfdd023c",
   "metadata": {},
   "outputs": [],
   "source": []
  }
 ],
 "metadata": {
  "kernelspec": {
   "display_name": "Python 3 (ipykernel)",
   "language": "python",
   "name": "python3"
  },
  "language_info": {
   "codemirror_mode": {
    "name": "ipython",
    "version": 3
   },
   "file_extension": ".py",
   "mimetype": "text/x-python",
   "name": "python",
   "nbconvert_exporter": "python",
   "pygments_lexer": "ipython3",
   "version": "3.13.4"
  }
 },
 "nbformat": 4,
 "nbformat_minor": 5
}
